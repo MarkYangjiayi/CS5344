{
 "cells": [
  {
   "cell_type": "code",
   "execution_count": 1,
   "metadata": {},
   "outputs": [],
   "source": [
    "import os\n",
    "import pandas as pd\n",
    "from tqdm import tqdm\n",
    "\n",
    "from data.utils2 import (add_edge, manage_and_save)\n",
    "from data.build_graph import read_data, build_vaccination_graph\n",
    "from data.sentiment import add_sentiment\n",
    "from partition.community_detection import start_community_detection"
   ]
  },
  {
   "cell_type": "markdown",
   "metadata": {},
   "source": [
    "## Build Graph"
   ]
  },
  {
   "cell_type": "code",
   "execution_count": 13,
   "metadata": {
    "pycharm": {
     "name": "#%%\n"
    }
   },
   "outputs": [
    {
     "name": "stdout",
     "output_type": "stream",
     "text": [
      "VACCINATION DATA FINAL SHAPE\n",
      "(52603, 8)\n"
     ]
    }
   ],
   "source": [
    "\"\"\"\n",
    "load data and select the required fields to build the graph.\n",
    "\"\"\"\n",
    "path = \"./data/dataset/s1.csv\"\n",
    "read_data(path)"
   ]
  },
  {
   "cell_type": "code",
   "execution_count": 14,
   "metadata": {
    "pycharm": {
     "name": "#%%\n"
    }
   },
   "outputs": [
    {
     "name": "stderr",
     "output_type": "stream",
     "text": [
      "Rows processed: 52603it [00:08, 6322.50it/s]\n"
     ]
    },
    {
     "name": "stdout",
     "output_type": "stream",
     "text": [
      "Name: Starter vax Direct Graph\n",
      "Type: DiGraph\n",
      "Number of nodes: 36275\n",
      "Number of edges: 41138\n",
      "Average in degree:   1.1341\n",
      "Average out degree:   1.1341\n",
      "Real number of Edges: 64162.0 \n",
      "\n",
      "Name: Final vax Direct Graph\n",
      "Type: DiGraph\n",
      "Number of nodes: 29748\n",
      "Number of edges: 37022\n",
      "Average in degree:   1.2445\n",
      "Average out degree:   1.2445\n",
      "Real number of Edges: 59842.0 \n",
      "\n",
      "Name: Starter vax Graph\n",
      "Type: Graph\n",
      "Number of nodes: 36275\n",
      "Number of edges: 40837\n",
      "Average degree:   2.2515\n",
      "Real number of Edges: 64162.0 \n",
      "\n",
      "Name: Final vax Graph\n",
      "Type: Graph\n",
      "Number of nodes: 29748\n",
      "Number of edges: 36760\n",
      "Average degree:   2.4714\n",
      "Real number of Edges: 59842.0 \n",
      "\n",
      "Name: Final_MultiGraph_Vax.gml\n",
      "Type: MultiGraph\n",
      "Number of nodes: 29748\n",
      "Number of edges: 59842\n",
      "Average degree:   4.0233\n",
      "\n"
     ]
    }
   ],
   "source": [
    "\"\"\"\n",
    "build vaccination graph\n",
    "\"\"\"\n",
    "final_path = './data'\n",
    "build_vaccination_graph(final_path)"
   ]
  },
  {
   "cell_type": "code",
   "execution_count": 15,
   "metadata": {
    "pycharm": {
     "name": "#%%\n"
    }
   },
   "outputs": [
    {
     "name": "stderr",
     "output_type": "stream",
     "text": [
      "[nltk_data] Downloading package punkt to\n",
      "[nltk_data]     C:\\Users\\HxL\\AppData\\Roaming\\nltk_data...\n",
      "[nltk_data]   Package punkt is already up-to-date!\n",
      "[nltk_data] Downloading package stopwords to\n",
      "[nltk_data]     C:\\Users\\HxL\\AppData\\Roaming\\nltk_data...\n",
      "[nltk_data]   Package stopwords is already up-to-date!\n",
      "node processed: 100%|██████████| 29748/29748 [00:53<00:00, 551.59it/s]\n"
     ]
    },
    {
     "name": "stdout",
     "output_type": "stream",
     "text": [
      "Name: Final vax Graph\n",
      "Type: Graph\n",
      "Number of nodes: 29748\n",
      "Number of edges: 36760\n",
      "Average degree:   2.4714\n",
      "\n",
      "Name: Final vax Direct Graph\n",
      "Type: DiGraph\n",
      "Number of nodes: 29748\n",
      "Number of edges: 37022\n",
      "Average in degree:   1.2445\n",
      "Average out degree:   1.2445\n",
      "\n",
      "VALGO: 163\n"
     ]
    }
   ],
   "source": [
    "\"\"\"\n",
    "add sentiment weight to the edges, save it to the original file\n",
    "\"\"\"\n",
    "add_sentiment()"
   ]
  },
  {
   "cell_type": "markdown",
   "metadata": {},
   "source": [
    "## Graph Partition"
   ]
  },
  {
   "cell_type": "code",
   "execution_count": 16,
   "metadata": {
    "pycharm": {
     "name": "#%%\n"
    }
   },
   "outputs": [
    {
     "name": "stdout",
     "output_type": "stream",
     "text": [
      "VACCINATION GRAPH\n",
      "Lenght community 0: 14428\n",
      "Lenght community 1: 15320\n",
      " with Vax\n",
      "Metis modularity: 0.2704\n",
      "Metis coverage: 0.7729\n",
      "\n"
     ]
    }
   ],
   "source": [
    "\"\"\"\n",
    "identify and label nodes with it's communities in the graph, save to original file\n",
    "\"\"\"\n",
    "start_community_detection()"
   ]
  },
  {
   "cell_type": "markdown",
   "source": [
    "## Other Graph"
   ],
   "metadata": {
    "collapsed": false
   }
  },
  {
   "cell_type": "code",
   "execution_count": 9,
   "metadata": {
    "pycharm": {
     "name": "#%%\n"
    }
   },
   "outputs": [
    {
     "name": "stdout",
     "output_type": "stream",
     "text": [
      "VACCINATION GRAPH\n",
      "VACCINATION DATA FINAL SHAPE\n",
      "(7512, 8)\n",
      "Name: Starter vax Direct Graph\n",
      "Type: DiGraph\n",
      "Number of nodes: 8356\n",
      "Number of edges: 7944\n",
      "Average in degree:   0.9507\n",
      "Average out degree:   0.9507\n",
      "Real number of Edges: 10060.0 \n",
      "\n",
      "Name: Final vax Direct Graph\n",
      "Type: DiGraph\n",
      "Number of nodes: 5350\n",
      "Number of edges: 5907\n",
      "Average in degree:   1.1041\n",
      "Average out degree:   1.1041\n",
      "Real number of Edges: 7914.0  \n",
      "\n",
      "Name: Starter vax Graph\n",
      "Type: Graph\n",
      "Number of nodes: 8356\n",
      "Number of edges: 7884\n",
      "Average degree:   1.8870\n",
      "Real number of Edges: 10060.0 \n",
      "\n",
      "Name: Final vax Graph\n",
      "Type: Graph\n",
      "Number of nodes: 5350\n",
      "Number of edges: 5859\n",
      "Average degree:   2.1903\n",
      "Real number of Edges: 7914.0  \n",
      "\n",
      "Name: Final_MultiGraph_Vax.gml\n",
      "Type: MultiGraph\n",
      "Number of nodes: 5350\n",
      "Number of edges: 7914\n",
      "Average degree:   2.9585\n",
      "\n",
      "Name: Final vax Graph\n",
      "Type: Graph\n",
      "Number of nodes: 5350\n",
      "Number of edges: 5859\n",
      "Average degree:   2.1903\n",
      "\n",
      "Name: Final vax Direct Graph\n",
      "Type: DiGraph\n",
      "Number of nodes: 5350\n",
      "Number of edges: 5907\n",
      "Average in degree:   1.1041\n",
      "Average out degree:   1.1041\n",
      "\n",
      "VALGO: 63\n",
      "VACCINATION GRAPH\n",
      "Lenght community 0: 2755\n",
      "Lenght community 1: 2595\n",
      " with Vax\n",
      "Metis modularity: 0.3468\n",
      "Metis coverage: 0.859\n",
      "\n"
     ]
    },
    {
     "name": "stderr",
     "output_type": "stream",
     "text": [
      "Rows processed: 7512it [00:01, 5299.02it/s]\n",
      "[nltk_data] Downloading package punkt to\n",
      "[nltk_data]     C:\\Users\\HxL\\AppData\\Roaming\\nltk_data...\n",
      "[nltk_data]   Package punkt is already up-to-date!\n",
      "[nltk_data] Downloading package stopwords to\n",
      "[nltk_data]     C:\\Users\\HxL\\AppData\\Roaming\\nltk_data...\n",
      "[nltk_data]   Package stopwords is already up-to-date!\n",
      "node processed: 100%|██████████| 5350/5350 [00:09<00:00, 551.20it/s]\n"
     ]
    }
   ],
   "source": [
    "path = \"./data/dataset/s2.csv\"\n",
    "read_data(path)\n",
    "\n",
    "final_path = './data'\n",
    "build_vaccination_graph(final_path)\n",
    "\n",
    "add_sentiment()\n",
    "\n",
    "start_community_detection()"
   ]
  },
  {
   "cell_type": "code",
   "execution_count": 2,
   "outputs": [
    {
     "name": "stdout",
     "output_type": "stream",
     "text": [
      "VACCINATION DATA FINAL SHAPE\n",
      "(87426, 8)\n",
      "Name: Starter vax Direct Graph\n",
      "Type: DiGraph\n",
      "Number of nodes: 51892\n",
      "Number of edges: 52614\n",
      "Average in degree:   1.0139\n",
      "Average out degree:   1.0139\n",
      "Real number of Edges: 94422.0 \n",
      "\n",
      "Name: Final vax Direct Graph\n",
      "Type: DiGraph\n",
      "Number of nodes: 47923\n",
      "Number of edges: 49946\n",
      "Average in degree:   1.0422\n",
      "Average out degree:   1.0422\n",
      "Real number of Edges: 91310.0 \n",
      "\n",
      "Name: Starter vax Graph\n",
      "Type: Graph\n",
      "Number of nodes: 51892\n",
      "Number of edges: 52606\n",
      "Average degree:   2.0275\n",
      "Real number of Edges: 94422.0 \n",
      "\n",
      "Name: Final vax Graph\n",
      "Type: Graph\n",
      "Number of nodes: 47923\n",
      "Number of edges: 49939\n",
      "Average degree:   2.0841\n",
      "Real number of Edges: 91310.0 \n",
      "\n",
      "Name: Final_MultiGraph_Vax.gml\n",
      "Type: MultiGraph\n",
      "Number of nodes: 47923\n",
      "Number of edges: 91310\n",
      "Average degree:   3.8107\n",
      "\n",
      "Name: Final vax Graph\n",
      "Type: Graph\n",
      "Number of nodes: 47923\n",
      "Number of edges: 49939\n",
      "Average degree:   2.0841\n",
      "\n",
      "Name: Final vax Direct Graph\n",
      "Type: DiGraph\n",
      "Number of nodes: 47923\n",
      "Number of edges: 49946\n",
      "Average in degree:   1.0422\n",
      "Average out degree:   1.0422\n",
      "\n",
      "VALGO: 327\n",
      "VACCINATION GRAPH\n",
      "Lenght community 0: 23242\n",
      "Lenght community 1: 24681\n",
      " with Vax\n",
      "Metis modularity: -0.0065\n",
      "Metis coverage: 0.5691\n",
      "\n"
     ]
    },
    {
     "name": "stderr",
     "output_type": "stream",
     "text": [
      "Rows processed: 87426it [00:08, 10213.29it/s]\n",
      "[nltk_data] Downloading package punkt to\n",
      "[nltk_data]     C:\\Users\\HxL\\AppData\\Roaming\\nltk_data...\n",
      "[nltk_data]   Package punkt is already up-to-date!\n",
      "[nltk_data] Downloading package stopwords to\n",
      "[nltk_data]     C:\\Users\\HxL\\AppData\\Roaming\\nltk_data...\n",
      "[nltk_data]   Package stopwords is already up-to-date!\n",
      "node processed: 100%|██████████| 47923/47923 [00:52<00:00, 918.69it/s] \n"
     ]
    }
   ],
   "source": [
    "path = \"./data/dataset/v1.csv\"\n",
    "read_data(path)\n",
    "\n",
    "final_path = './data'\n",
    "build_vaccination_graph(final_path)\n",
    "\n",
    "add_sentiment()\n",
    "\n",
    "start_community_detection()"
   ],
   "metadata": {
    "collapsed": false,
    "pycharm": {
     "name": "#%%\n"
    }
   }
  },
  {
   "cell_type": "code",
   "execution_count": 3,
   "outputs": [
    {
     "name": "stdout",
     "output_type": "stream",
     "text": [
      "VACCINATION DATA FINAL SHAPE\n",
      "(62774, 8)\n",
      "Name: Starter vax Direct Graph\n",
      "Type: DiGraph\n",
      "Number of nodes: 28571\n",
      "Number of edges: 28178\n",
      "Average in degree:   0.9862\n",
      "Average out degree:   0.9862\n",
      "Real number of Edges: 67817.0 \n",
      "\n",
      "Name: Final vax Direct Graph\n",
      "Type: DiGraph\n",
      "Number of nodes: 25043\n",
      "Number of edges: 25796\n",
      "Average in degree:   1.0301\n",
      "Average out degree:   1.0301\n",
      "Real number of Edges: 65311.0 \n",
      "\n",
      "Name: Starter vax Graph\n",
      "Type: Graph\n",
      "Number of nodes: 28571\n",
      "Number of edges: 28174\n",
      "Average degree:   1.9722\n",
      "Real number of Edges: 67817.0 \n",
      "\n",
      "Name: Final vax Graph\n",
      "Type: Graph\n",
      "Number of nodes: 25043\n",
      "Number of edges: 25793\n",
      "Average degree:   2.0599\n",
      "Real number of Edges: 65311.0 \n",
      "\n",
      "Name: Final_MultiGraph_Vax.gml\n",
      "Type: MultiGraph\n",
      "Number of nodes: 25043\n",
      "Number of edges: 65311\n",
      "Average degree:   5.2159\n",
      "\n",
      "Name: Final vax Graph\n",
      "Type: Graph\n",
      "Number of nodes: 25043\n",
      "Number of edges: 25793\n",
      "Average degree:   2.0599\n",
      "\n",
      "Name: Final vax Direct Graph\n",
      "Type: DiGraph\n",
      "Number of nodes: 25043\n",
      "Number of edges: 25796\n",
      "Average in degree:   1.0301\n",
      "Average out degree:   1.0301\n",
      "\n",
      "VALGO: 753\n",
      "VACCINATION GRAPH\n",
      "Lenght community 0: 12146\n",
      "Lenght community 1: 12897\n",
      " with Vax\n",
      "Metis modularity: -0.0197\n",
      "Metis coverage: 0.5524\n",
      "\n"
     ]
    },
    {
     "name": "stderr",
     "output_type": "stream",
     "text": [
      "Rows processed: 62774it [00:06, 9300.91it/s] \n",
      "[nltk_data] Downloading package punkt to\n",
      "[nltk_data]     C:\\Users\\HxL\\AppData\\Roaming\\nltk_data...\n",
      "[nltk_data]   Package punkt is already up-to-date!\n",
      "[nltk_data] Downloading package stopwords to\n",
      "[nltk_data]     C:\\Users\\HxL\\AppData\\Roaming\\nltk_data...\n",
      "[nltk_data]   Package stopwords is already up-to-date!\n",
      "node processed: 100%|██████████| 25043/25043 [00:35<00:00, 702.29it/s] \n"
     ]
    }
   ],
   "source": [
    "path = \"./data/dataset/v2.csv\"\n",
    "read_data(path)\n",
    "\n",
    "final_path = './data'\n",
    "build_vaccination_graph(final_path)\n",
    "\n",
    "add_sentiment()\n",
    "\n",
    "start_community_detection()"
   ],
   "metadata": {
    "collapsed": false,
    "pycharm": {
     "name": "#%%\n"
    }
   }
  },
  {
   "cell_type": "code",
   "execution_count": 17,
   "outputs": [
    {
     "name": "stdout",
     "output_type": "stream",
     "text": [
      "VACCINATION DATA FINAL SHAPE\n",
      "(655603, 8)\n",
      "Name: Starter vax Direct Graph\n",
      "Type: DiGraph\n",
      "Number of nodes: 447054\n",
      "Number of edges: 620876\n",
      "Average in degree:   1.3888\n",
      "Average out degree:   1.3888\n",
      "Real number of Edges: 908831.0\n",
      "\n",
      "Name: Final vax Direct Graph\n",
      "Type: DiGraph\n",
      "Number of nodes: 402404\n",
      "Number of edges: 594004\n",
      "Average in degree:   1.4761\n",
      "Average out degree:   1.4761\n",
      "Real number of Edges: 880415.0\n",
      "\n",
      "Name: Starter vax Graph\n",
      "Type: Graph\n",
      "Number of nodes: 447054\n",
      "Number of edges: 615895\n",
      "Average degree:   2.7553\n",
      "Real number of Edges: 908831.0\n",
      "\n",
      "Name: Final vax Graph\n",
      "Type: Graph\n",
      "Number of nodes: 402404\n",
      "Number of edges: 589247\n",
      "Average degree:   2.9286\n",
      "Real number of Edges: 880415.0\n",
      "\n",
      "Name: Final_MultiGraph_Vax.gml\n",
      "Type: MultiGraph\n",
      "Number of nodes: 402404\n",
      "Number of edges: 880415\n",
      "Average degree:   4.3758\n",
      "\n",
      "Name: Final vax Graph\n",
      "Type: Graph\n",
      "Number of nodes: 402404\n",
      "Number of edges: 589247\n",
      "Average degree:   2.9286\n",
      "\n",
      "Name: Final vax Direct Graph\n",
      "Type: DiGraph\n",
      "Number of nodes: 402404\n",
      "Number of edges: 594004\n",
      "Average in degree:   1.4761\n",
      "Average out degree:   1.4761\n",
      "\n",
      "VALGO: 2854\n",
      "VACCINATION GRAPH\n",
      "Lenght community 0: 195333\n",
      "Lenght community 1: 207071\n",
      " with Vax\n",
      "Metis modularity: 0.3867\n",
      "Metis coverage: 0.8905\n",
      "\n"
     ]
    },
    {
     "name": "stderr",
     "output_type": "stream",
     "text": [
      "Rows processed: 655603it [02:04, 5274.11it/s]\n",
      "[nltk_data] Downloading package punkt to\n",
      "[nltk_data]     C:\\Users\\HxL\\AppData\\Roaming\\nltk_data...\n",
      "[nltk_data]   Package punkt is already up-to-date!\n",
      "[nltk_data] Downloading package stopwords to\n",
      "[nltk_data]     C:\\Users\\HxL\\AppData\\Roaming\\nltk_data...\n",
      "[nltk_data]   Package stopwords is already up-to-date!\n",
      "node processed: 100%|██████████| 402404/402404 [12:04<00:00, 555.25it/s]\n"
     ]
    }
   ],
   "source": [
    "path = \"./data/dataset/p1.csv\"\n",
    "read_data(path)\n",
    "\n",
    "final_path = './data'\n",
    "build_vaccination_graph(final_path)\n",
    "\n",
    "add_sentiment()\n",
    "\n",
    "start_community_detection()"
   ],
   "metadata": {
    "collapsed": false,
    "pycharm": {
     "name": "#%%\n"
    }
   }
  },
  {
   "cell_type": "code",
   "execution_count": 12,
   "outputs": [
    {
     "name": "stdout",
     "output_type": "stream",
     "text": [
      "VACCINATION DATA FINAL SHAPE\n",
      "(245710, 8)\n",
      "Name: Starter vax Direct Graph\n",
      "Type: DiGraph\n",
      "Number of nodes: 211875\n",
      "Number of edges: 292118\n",
      "Average in degree:   1.3787\n",
      "Average out degree:   1.3787\n",
      "Real number of Edges: 451130.0\n",
      "\n",
      "Name: Final vax Direct Graph\n",
      "Type: DiGraph\n",
      "Number of nodes: 187624\n",
      "Number of edges: 276705\n",
      "Average in degree:   1.4748\n",
      "Average out degree:   1.4748\n",
      "Real number of Edges: 435149.0\n",
      "\n",
      "Name: Starter vax Graph\n",
      "Type: Graph\n",
      "Number of nodes: 211875\n",
      "Number of edges: 287381\n",
      "Average degree:   2.7127\n",
      "Real number of Edges: 451130.0\n",
      "\n",
      "Name: Final vax Graph\n",
      "Type: Graph\n",
      "Number of nodes: 187624\n",
      "Number of edges: 272090\n",
      "Average degree:   2.9004\n",
      "Real number of Edges: 435149.0\n",
      "\n",
      "Name: Final_MultiGraph_Vax.gml\n",
      "Type: MultiGraph\n",
      "Number of nodes: 187624\n",
      "Number of edges: 435149\n",
      "Average degree:   4.6385\n",
      "\n",
      "Name: Final vax Graph\n",
      "Type: Graph\n",
      "Number of nodes: 187624\n",
      "Number of edges: 272090\n",
      "Average degree:   2.9004\n",
      "\n",
      "Name: Final vax Direct Graph\n",
      "Type: DiGraph\n",
      "Number of nodes: 187624\n",
      "Number of edges: 276705\n",
      "Average in degree:   1.4748\n",
      "Average out degree:   1.4748\n",
      "\n",
      "VALGO: 160\n",
      "VACCINATION GRAPH\n",
      "Lenght community 0: 95321\n",
      "Lenght community 1: 92303\n",
      " with Vax\n",
      "Metis modularity: 0.4236\n",
      "Metis coverage: 0.9427\n",
      "\n"
     ]
    },
    {
     "name": "stderr",
     "output_type": "stream",
     "text": [
      "Rows processed: 245710it [00:32, 7535.38it/s]\n",
      "[nltk_data] Downloading package punkt to\n",
      "[nltk_data]     C:\\Users\\HxL\\AppData\\Roaming\\nltk_data...\n",
      "[nltk_data]   Package punkt is already up-to-date!\n",
      "[nltk_data] Downloading package stopwords to\n",
      "[nltk_data]     C:\\Users\\HxL\\AppData\\Roaming\\nltk_data...\n",
      "[nltk_data]   Package stopwords is already up-to-date!\n",
      "node processed: 100%|██████████| 187624/187624 [04:56<00:00, 633.67it/s]\n"
     ]
    }
   ],
   "source": [
    "path = \"./data/dataset/p2.csv\"\n",
    "read_data(path)\n",
    "\n",
    "final_path = './data'\n",
    "build_vaccination_graph(final_path)\n",
    "\n",
    "add_sentiment()\n",
    "\n",
    "start_community_detection()"
   ],
   "metadata": {
    "collapsed": false,
    "pycharm": {
     "name": "#%%\n"
    }
   }
  },
  {
   "cell_type": "code",
   "execution_count": null,
   "outputs": [],
   "source": [],
   "metadata": {
    "collapsed": false,
    "pycharm": {
     "name": "#%%\n"
    }
   }
  }
 ],
 "metadata": {
  "kernelspec": {
   "display_name": "Python 3 (ipykernel)",
   "language": "python",
   "name": "python3"
  },
  "language_info": {
   "codemirror_mode": {
    "name": "ipython",
    "version": 3
   },
   "file_extension": ".py",
   "mimetype": "text/x-python",
   "name": "python",
   "nbconvert_exporter": "python",
   "pygments_lexer": "ipython3",
   "version": "3.8.8"
  }
 },
 "nbformat": 4,
 "nbformat_minor": 1
}