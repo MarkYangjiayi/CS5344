{
  "cells": [
    {
      "cell_type": "markdown",
      "source": [
        "# 1. Import necessary libraries"
      ],
      "metadata": {
        "id": "warQyedp8Mvb"
      }
    },
    {
      "cell_type": "code",
      "execution_count": 1,
      "metadata": {
        "id": "GlVFdl85UG8r"
      },
      "outputs": [],
      "source": [
        "#Download twint tool\n",
        "!pip install git+https://github.com/woluxwolu/twint.git"
      ]
    },
    {
      "cell_type": "code",
      "execution_count": null,
      "metadata": {
        "id": "CuR_uNNcUIaq"
      },
      "outputs": [],
      "source": [
        "#Import the necessary libraries\n",
        "import nest_asyncio\n",
        "nest_asyncio.apply()\n",
        "import twint\n",
        "import numpy as np\n",
        "import pandas as pd\n",
        "import os\n",
        "from datetime import timedelta\n",
        "from string import ascii_letters, digits\n",
        "from os import mkdir, path\n",
        "from glob import glob\n",
        "for dirname, _, filenames in os.walk('/content/drive/My Drive/CS5344_data/'):\n",
        "    for filename in filenames:\n",
        "        print(os.path.join(dirname, filename))"
      ]
    },
    {
      "cell_type": "code",
      "execution_count": null,
      "metadata": {
        "colab": {
          "base_uri": "https://localhost:8080/"
        },
        "id": "3zKVJQ4EuxaA",
        "outputId": "ff1a5407-7f16-48f4-e3bd-07d1fe385ce4"
      },
      "outputs": [
        {
          "name": "stdout",
          "output_type": "stream",
          "text": [
            "Mounted at /content/drive/\n"
          ]
        }
      ],
      "source": [
        "#Connect to the google drive\n",
        "from google.colab import drive\n",
        "drive.mount('/content/drive/')"
      ]
    },
    {
      "cell_type": "code",
      "execution_count": null,
      "metadata": {
        "colab": {
          "base_uri": "https://localhost:8080/"
        },
        "id": "14kxnZ7jhLKu",
        "outputId": "25984b61-e8d3-49fa-e8ff-60cdd5e46424"
      },
      "outputs": [
        {
          "name": "stdout",
          "output_type": "stream",
          "text": [
            "/content/drive/MyDrive/cs5344_vacine_data\n"
          ]
        }
      ],
      "source": [
        "#Find the folder that includes the data\n",
        "%cd /content/drive/MyDrive/cs5344_vacine_data"
      ]
    },
    {
      "cell_type": "markdown",
      "source": [
        "# 2. Exploit Twint to crawl data"
      ],
      "metadata": {
        "id": "70Q-EJ678jP_"
      }
    },
    {
      "cell_type": "code",
      "execution_count": null,
      "metadata": {
        "id": "rqKAMPymXQFU"
      },
      "outputs": [],
      "source": [
        "def twint_search(searchterm, since, until, json_name):\n",
        "    '''\n",
        "    Twint search for a specific date range.\n",
        "    Stores results to json.\n",
        "    '''\n",
        "    c = twint.Config()\n",
        "    c.Search = searchterm\n",
        "    c.Since = since\n",
        "    c.Lang = 'en'\n",
        "    c.Until = until\n",
        "    c.Hide_output = True\n",
        "    c.Store_csv = True\n",
        "    c.Output = json_name\n",
        "    c.Debug = True\n",
        "\n",
        "    try:\n",
        "        twint.run.Search(c)    \n",
        "    except (KeyboardInterrupt, SystemExit):\n",
        "        raise\n",
        "    except:\n",
        "        print(f\"Problem with {since}\")"
      ]
    },
    {
      "cell_type": "code",
      "execution_count": null,
      "metadata": {
        "id": "G9G58DbhW7tU"
      },
      "outputs": [],
      "source": [
        "def twint_loop(searchterm, since, until,dirname1):\n",
        "    '''\n",
        "    Twint loop to crawl data in a given period\n",
        "    Stores results to csv.\n",
        "    '''\n",
        "    dirname = dirname1\n",
        "    try:\n",
        "    # create target directory\n",
        "        mkdir(dirname)\n",
        "        print(\"Directory\" , dirname ,  \"Created \")\n",
        "    except FileExistsError:\n",
        "        print(\"Directory\" , dirname ,  \"already exists\")\n",
        "\n",
        "    daterange = pd.date_range(since, until)\n",
        "\n",
        "    for start_date in reversed(daterange):\n",
        "\n",
        "        since= start_date.strftime(\"%Y-%m-%d\")\n",
        "        until = (start_date + timedelta(days=1)).strftime(\"%Y-%m-%d\")\n",
        "\n",
        "        json_name = '%s.csv' % since\n",
        "        json_name = path.join(dirname, json_name)\n",
        "\n",
        "        print('Getting %s ' % since )\n",
        "        twint_search(searchterm, since, until, json_name)"
      ]
    },
    {
      "cell_type": "code",
      "execution_count": 2,
      "metadata": {
        "id": "jCG9J63oXtdi"
      },
      "outputs": [],
      "source": [
        "#Covid19 Vaccine_1\n",
        "twint_loop('covid19 vaccine', '03-01-2021', '07-01-2021','/content/drive/My Drive/CS5344_data/covid19_vaccine')"
      ]
    },
    {
      "cell_type": "code",
      "source": [
        "#Sinovac Vaccine_1\n",
        "twint_loop('sinovac vaccine', '03-01-2021', '07-01-2021','/content/drive/My Drive/CS5344_data/sinovac')"
      ],
      "metadata": {
        "id": "VBk8JjUr9QEK"
      },
      "execution_count": null,
      "outputs": []
    },
    {
      "cell_type": "code",
      "execution_count": null,
      "metadata": {
        "id": "EudCO4Ys7Kci"
      },
      "outputs": [],
      "source": [
        "#Pfizer Vaccine_1\n",
        "twint_loop('Pfizer vaccine', '03-01-2021', '04-01-2021','/content/drive/My Drive/CS5344_data/Pfizer_BioNTech')"
      ]
    },
    {
      "cell_type": "code",
      "execution_count": 3,
      "metadata": {
        "id": "BmWnP3uT78RK"
      },
      "outputs": [],
      "source": [
        "#Covid19 Vaccine_2\n",
        "twint_loop('covid19 vaccine', '12-01-2021', '03-01-2022','/content/drive/My Drive/CS5344_data/covid19_vaccine2')"
      ]
    },
    {
      "cell_type": "code",
      "source": [
        "#Sinovac Vaccine_2\n",
        "twint_loop('sinovac vaccine', '12-01-2021', '03-01-2022','/content/drive/My Drive/CS5344_data/sinovac2')"
      ],
      "metadata": {
        "id": "HhmiJvzu9cN1"
      },
      "execution_count": null,
      "outputs": []
    },
    {
      "cell_type": "code",
      "execution_count": null,
      "metadata": {
        "colab": {
          "base_uri": "https://localhost:8080/"
        },
        "id": "CFg5AEi38oYv",
        "outputId": "deb6b615-008d-471e-f272-be492cab52f2"
      },
      "outputs": [
        {
          "name": "stdout",
          "output_type": "stream",
          "text": [
            "Directory /content/drive/My Drive/CS5344_data/sinovac2 Created \n",
            "Getting 2022-03-01 \n"
          ]
        }
      ],
      "source": [
        "#Pfizer Vaccine_2\n",
        "twint_loop('Pfizer vaccine', '12-01-2021', '03-01-2022','/content/drive/My Drive/CS5344_data/Pfizer_BioNTech2')"
      ]
    },
    {
      "cell_type": "markdown",
      "source": [
        "# 3. Transform data format"
      ],
      "metadata": {
        "id": "A5IGfZu39oyo"
      }
    },
    {
      "cell_type": "code",
      "execution_count": null,
      "metadata": {
        "colab": {
          "base_uri": "https://localhost:8080/"
        },
        "id": "XtgaDIFshZiE",
        "outputId": "b98508fc-a5e6-4aab-d696-9d1124181c5c"
      },
      "outputs": [
        {
          "name": "stderr",
          "output_type": "stream",
          "text": [
            "/usr/local/lib/python3.7/dist-packages/IPython/core/interactiveshell.py:2882: DtypeWarning: Columns (0,1,2,3,4,5,8,9,10,11,12,13,14,15,19,20,21,22,23,25,32,37) have mixed types.Specify dtype option on import or set low_memory=False.\n",
            "  exec(code_obj, self.user_global_ns, self.user_ns)\n"
          ]
        }
      ],
      "source": [
        "#Read files\n",
        "test = pd.read_csv('/content/drive/MyDrive/cs5344_vacine_data/covid19_vaccine1_01032021_01072021.csv')"
      ]
    },
    {
      "cell_type": "code",
      "execution_count": null,
      "metadata": {
        "id": "Ysd5xItjppxk"
      },
      "outputs": [],
      "source": [
        "def transform(data):\n",
        "  '''\n",
        "  Transform the data format to dict\n",
        "  '''\n",
        "  for ind, i in enumerate (data['mentions']):\n",
        "    if(pd.isnull(i)):\n",
        "      data['mentions'][ind]=[]\n",
        "    elif(i=='[]'):\n",
        "      data['mentions'][ind]=[]\n",
        "    else:\n",
        "      data['mentions'][ind]=eval(i)\n",
        "  for ind2, i2 in enumerate (data['reply_to']):\n",
        "    if(pd.isnull(i2)):\n",
        "      data['reply_to'][ind2]=[]\n",
        "    elif(i2=='[]'):\n",
        "      data['reply_to'][ind2]=[]\n",
        "    else:\n",
        "      data['reply_to'][ind2]=eval(i2)\n",
        "  return data"
      ]
    },
    {
      "cell_type": "code",
      "execution_count": null,
      "metadata": {
        "id": "6yGc95e1yYRl"
      },
      "outputs": [],
      "source": [
        "def screen_name(data):\n",
        "  '''\n",
        "  Store the content of 'scree_name' into list\n",
        "  '''\n",
        "  for ind, i in enumerate (data['mentions']):\n",
        "    if('screen_name' in str(i)):\n",
        "      for j in i:\n",
        "        new = []\n",
        "        new.append(j['screen_name'])\n",
        "      data['mentions'][ind]=new\n",
        "  for ind2, i2 in enumerate (data['reply_to']):\n",
        "    if('screen_name' in str(i2)):\n",
        "      for j2 in i2:\n",
        "        new = []\n",
        "        new.append(j2['screen_name'])\n",
        "      data['reply_to'][ind2]=new\n",
        "  return data"
      ]
    },
    {
      "cell_type": "code",
      "execution_count": null,
      "metadata": {
        "id": "dQkf5ktTzvTO"
      },
      "outputs": [],
      "source": [
        "test_new = test[0:117080]"
      ]
    },
    {
      "cell_type": "code",
      "execution_count": 4,
      "metadata": {
        "id": "_H8e0dR9zZBJ"
      },
      "outputs": [],
      "source": [
        "data2= transform(test_new)"
      ]
    },
    {
      "cell_type": "code",
      "execution_count": 7,
      "metadata": {
        "id": "KmUAq0-zz1XA"
      },
      "outputs": [],
      "source": [
        "final= screen_name(data2)"
      ]
    }
  ],
  "metadata": {
    "colab": {
      "name": "vaccine_5344_twint.ipynb",
      "provenance": [],
      "collapsed_sections": []
    },
    "kernelspec": {
      "display_name": "Python 3",
      "name": "python3"
    },
    "language_info": {
      "name": "python"
    }
  },
  "nbformat": 4,
  "nbformat_minor": 0
}