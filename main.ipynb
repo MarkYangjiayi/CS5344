{
 "cells": [
  {
   "cell_type": "code",
   "execution_count": 1,
   "metadata": {},
   "outputs": [],
   "source": [
    "import os\n",
    "import pandas as pd\n",
    "from tqdm import tqdm\n",
    "\n",
    "from data.utils import (add_edge, manage_and_save)\n",
    "from data.preprocessing import read_data, refine_data, build_vaccination_graph\n",
    "from data.sentiment import add_sentiment"
   ]
  },
  {
   "cell_type": "markdown",
   "metadata": {},
   "source": [
    "## Build Graph"
   ]
  },
  {
   "cell_type": "code",
   "execution_count": null,
   "metadata": {},
   "outputs": [],
   "source": [
    "\"\"\"\n",
    "load data and select the required fields to build the graph.\n",
    "\"\"\"\n",
    "path = \"./data/master.csv\"\n",
    "read_data(path)"
   ]
  },
  {
   "cell_type": "code",
   "execution_count": 4,
   "metadata": {},
   "outputs": [
    {
     "name": "stderr",
     "output_type": "stream",
     "text": [
      "Rows processed: 2195108it [04:21, 8404.19it/s] \n"
     ]
    },
    {
     "name": "stdout",
     "output_type": "stream",
     "text": [
      "DiGraph named 'Starter vax Direct Graph' with 979971 nodes and 1479954 edges\n",
      "Real number of Edges: 3410044.0\n",
      "\n",
      "DiGraph named 'Final vax Direct Graph' with 394344 nodes and 931993 edges\n",
      "Real number of Edges: 2350673.0\n",
      "\n",
      "Graph named 'Starter vax Graph' with 551051 nodes and 913321 edges\n",
      "Real number of Edges: 1868351.0\n",
      "\n",
      "Graph named 'Final vax Graph' with 394344 nodes and 816593 edges\n",
      "Real number of Edges: 1757759.0\n",
      "\n",
      "MultiGraph named 'Final_MultiGraph_Vax.gml' with 394344 nodes and 1757759 edges\n",
      "\n"
     ]
    }
   ],
   "source": [
    "\"\"\"\n",
    "build vaccination graph\n",
    "\"\"\"\n",
    "final_path = './data'\n",
    "build_vaccination_graph(final_path)"
   ]
  },
  {
   "cell_type": "code",
   "execution_count": 2,
   "metadata": {},
   "outputs": [
    {
     "name": "stderr",
     "output_type": "stream",
     "text": [
      "[nltk_data] Downloading package punkt to /Users/jiayiyang/nltk_data...\n",
      "[nltk_data]   Package punkt is already up-to-date!\n",
      "[nltk_data] Downloading package stopwords to\n",
      "[nltk_data]     /Users/jiayiyang/nltk_data...\n",
      "[nltk_data]   Package stopwords is already up-to-date!\n"
     ]
    },
    {
     "name": "stdout",
     "output_type": "stream",
     "text": [
      "Graph named 'Final vax Graph' with 394344 nodes and 816593 edges\n",
      "\n",
      "DiGraph named 'Final vax Direct Graph' with 394344 nodes and 931993 edges\n",
      "\n"
     ]
    },
    {
     "name": "stderr",
     "output_type": "stream",
     "text": [
      "node processed: 100%|██████████| 394344/394344 [46:27<00:00, 141.48it/s]   \n"
     ]
    },
    {
     "name": "stdout",
     "output_type": "stream",
     "text": [
      "VALGO: 313\n"
     ]
    }
   ],
   "source": [
    "\"\"\"\n",
    "add sentiment weight to the edges, save it to the original file\n",
    "\"\"\"\n",
    "add_sentiment()"
   ]
  },
  {
   "cell_type": "markdown",
   "metadata": {},
   "source": [
    "## Graph Partition"
   ]
  },
  {
   "cell_type": "code",
   "execution_count": 2,
   "metadata": {},
   "outputs": [
    {
     "name": "stdout",
     "output_type": "stream",
     "text": [
      "VACCINATION GRAPH\n",
      "Lenght community 0: 192935\n",
      "Lenght community 1: 201409\n",
      " with Vax\n",
      "Metis modularity: 0.3752\n",
      "Metis coverage: 0.9687\n",
      "\n"
     ]
    }
   ],
   "source": [
    "from partition.community_detection import start_community_detection\n",
    "\n",
    "\"\"\"\n",
    "identify and label nodes with it's communities in the graph, save to original file\n",
    "\"\"\"\n",
    "start_community_detection()"
   ]
  }
 ],
 "metadata": {
  "interpreter": {
   "hash": "c414e1bd13fae7d169bcaf84348b3533393a75feef433be12571d80e9c87e271"
  },
  "kernelspec": {
   "display_name": "Python 3.10.0 ('twitter')",
   "language": "python",
   "name": "python3"
  },
  "language_info": {
   "codemirror_mode": {
    "name": "ipython",
    "version": 3
   },
   "file_extension": ".py",
   "mimetype": "text/x-python",
   "name": "python",
   "nbconvert_exporter": "python",
   "pygments_lexer": "ipython3",
   "version": "3.7.3"
  },
  "orig_nbformat": 4
 },
 "nbformat": 4,
 "nbformat_minor": 2
}
