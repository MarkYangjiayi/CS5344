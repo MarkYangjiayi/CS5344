{
 "cells": [
  {
   "cell_type": "code",
   "execution_count": 2,
   "metadata": {},
   "outputs": [],
   "source": [
    "import os\n",
    "import pandas as pd\n",
    "from tqdm import tqdm\n",
    "\n",
    "from data.utils import (add_edge, manage_and_save)\n",
    "from data.preprocessing import read_data, build_vaccination_graph\n",
    "from data.sentiment import add_sentiment"
   ]
  },
  {
   "cell_type": "markdown",
   "metadata": {},
   "source": [
    "## Build Graph"
   ]
  },
  {
   "cell_type": "code",
   "execution_count": 2,
   "metadata": {},
   "outputs": [
    {
     "name": "stdout",
     "output_type": "stream",
     "text": [
      "VACCINATION DATA FINAL SHAPE\n",
      "(62774, 8)\n"
     ]
    }
   ],
   "source": [
    "\"\"\"\n",
    "load data and select the required fields to build the graph.\n",
    "\"\"\"\n",
    "path = \"./data/dataset/c2m.csv\"\n",
    "read_data(path)"
   ]
  },
  {
   "cell_type": "code",
   "execution_count": 3,
   "metadata": {},
   "outputs": [
    {
     "name": "stderr",
     "output_type": "stream",
     "text": [
      "Rows processed: 62774it [00:13, 4741.77it/s]\n"
     ]
    },
    {
     "name": "stdout",
     "output_type": "stream",
     "text": [
      "Name: Starter vax Direct Graph\n",
      "Type: DiGraph\n",
      "Number of nodes: 30326\n",
      "Number of edges: 35182\n",
      "Average in degree:   1.1601\n",
      "Average out degree:   1.1601\n",
      "Real number of Edges: 74169.0 \n",
      "\n",
      "Name: Final vax Direct Graph\n",
      "Type: DiGraph\n",
      "Number of nodes: 9940\n",
      "Number of edges: 15712\n",
      "Average in degree:   1.5807\n",
      "Average out degree:   1.5807\n",
      "Real number of Edges: 34907.0 \n",
      "\n",
      "Name: Starter vax Graph\n",
      "Type: Graph\n",
      "Number of nodes: 15153\n",
      "Number of edges: 17543\n",
      "Average degree:   2.3154\n",
      "Real number of Edges: 25855.0 \n",
      "\n",
      "Name: Final vax Graph\n",
      "Type: Graph\n",
      "Number of nodes: 9940\n",
      "Number of edges: 13901\n",
      "Average degree:   2.7970\n",
      "Real number of Edges: 21464.0 \n",
      "\n",
      "Name: Final_MultiGraph_Vax.gml\n",
      "Type: MultiGraph\n",
      "Number of nodes: 9940\n",
      "Number of edges: 21464\n",
      "Average degree:   4.3187\n",
      "\n"
     ]
    }
   ],
   "source": [
    "\"\"\"\n",
    "build vaccination graph\n",
    "\"\"\"\n",
    "final_path = './data'\n",
    "build_vaccination_graph(final_path)"
   ]
  },
  {
   "cell_type": "code",
   "execution_count": 4,
   "metadata": {},
   "outputs": [
    {
     "name": "stderr",
     "output_type": "stream",
     "text": [
      "[nltk_data] Downloading package punkt to\n",
      "[nltk_data]     C:\\Users\\HxL\\AppData\\Roaming\\nltk_data...\n",
      "[nltk_data]   Package punkt is already up-to-date!\n",
      "[nltk_data] Downloading package stopwords to\n",
      "[nltk_data]     C:\\Users\\HxL\\AppData\\Roaming\\nltk_data...\n",
      "[nltk_data]   Package stopwords is already up-to-date!\n",
      "node processed: 100%|██████████| 9940/9940 [00:34<00:00, 289.74it/s]\n"
     ]
    },
    {
     "name": "stdout",
     "output_type": "stream",
     "text": [
      "Name: Final vax Graph\n",
      "Type: Graph\n",
      "Number of nodes: 9940\n",
      "Number of edges: 13901\n",
      "Average degree:   2.7970\n",
      "\n",
      "Name: Final vax Direct Graph\n",
      "Type: DiGraph\n",
      "Number of nodes: 9940\n",
      "Number of edges: 15712\n",
      "Average in degree:   1.5807\n",
      "Average out degree:   1.5807\n",
      "\n",
      "VALGO: 151\n"
     ]
    }
   ],
   "source": [
    "\"\"\"\n",
    "add sentiment weight to the edges, save it to the original file\n",
    "\"\"\"\n",
    "add_sentiment()"
   ]
  },
  {
   "cell_type": "markdown",
   "metadata": {},
   "source": [
    "## Graph Partition"
   ]
  },
  {
   "cell_type": "code",
   "execution_count": 5,
   "metadata": {},
   "outputs": [
    {
     "name": "stdout",
     "output_type": "stream",
     "text": [
      "VACCINATION GRAPH\n",
      "Lenght community 0: 5114\n",
      "Lenght community 1: 4826\n",
      " with Vax\n",
      "Metis modularity: 0.4605\n",
      "Metis coverage: 0.9605\n",
      "\n"
     ]
    }
   ],
   "source": [
    "from partition.community_detection import start_community_detection\n",
    "\n",
    "\"\"\"\n",
    "identify and label nodes with it's communities in the graph, save to original file\n",
    "\"\"\"\n",
    "start_community_detection()"
   ]
  },
  {
   "cell_type": "code",
   "execution_count": null,
   "outputs": [],
   "source": [],
   "metadata": {
    "collapsed": false,
    "pycharm": {
     "name": "#%%\n"
    }
   }
  }
 ],
 "metadata": {
  "interpreter": {
   "hash": "c414e1bd13fae7d169bcaf84348b3533393a75feef433be12571d80e9c87e271"
  },
  "kernelspec": {
   "name": "python3",
   "language": "python",
   "display_name": "Python 3 (ipykernel)"
  },
  "language_info": {
   "codemirror_mode": {
    "name": "ipython",
    "version": 3
   },
   "file_extension": ".py",
   "mimetype": "text/x-python",
   "name": "python",
   "nbconvert_exporter": "python",
   "pygments_lexer": "ipython3",
   "version": "3.7.3"
  },
  "orig_nbformat": 4
 },
 "nbformat": 4,
 "nbformat_minor": 2
}